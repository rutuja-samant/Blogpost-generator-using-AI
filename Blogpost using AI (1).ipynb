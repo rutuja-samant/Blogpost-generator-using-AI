{
 "cells": [
  {
   "cell_type": "code",
   "execution_count": 1,
   "id": "4e38575f",
   "metadata": {},
   "outputs": [],
   "source": [
    "!pip install requests gradio -q"
   ]
  },
  {
   "cell_type": "code",
   "execution_count": 2,
   "id": "278eb30f",
   "metadata": {},
   "outputs": [],
   "source": [
    "!pip install cohere -q "
   ]
  },
  {
   "cell_type": "code",
   "execution_count": 3,
   "id": "7cb04056",
   "metadata": {},
   "outputs": [],
   "source": [
    "import cohere"
   ]
  },
  {
   "cell_type": "code",
   "execution_count": 4,
   "id": "64f4da46",
   "metadata": {},
   "outputs": [],
   "source": [
    "co = cohere.Client('3UAxh8hSJJtfebUOqlsywkjCDYggE3m9GcRXJ2rJ') #your cohere api key here "
   ]
  },
  {
   "cell_type": "code",
   "execution_count": 5,
   "id": "7e3d30c7",
   "metadata": {},
   "outputs": [],
   "source": [
    "def write_post(topic):\n",
    "  response = co.generate(\n",
    "  model='command-xlarge-20221108',\n",
    "  prompt=f'Create a Blogpost for \\\"{topic}\\\":',\n",
    "  max_tokens=300,\n",
    "  temperature=0.9,\n",
    "  k=0,\n",
    "  p=0.75,\n",
    "  frequency_penalty=0,\n",
    "  presence_penalty=0,\n",
    "  stop_sequences=[],\n",
    "  return_likelihoods='NONE')\n",
    "  return(response.generations[0].text)"
   ]
  },
  {
   "cell_type": "code",
   "execution_count": 6,
   "id": "b96841b1",
   "metadata": {},
   "outputs": [],
   "source": [
    "import gradio as gr"
   ]
  },
  {
   "cell_type": "code",
   "execution_count": null,
   "id": "262337ad",
   "metadata": {},
   "outputs": [
    {
     "name": "stdout",
     "output_type": "stream",
     "text": [
      "Running on local URL:  http://127.0.0.1:7860\n",
      "\n",
      "To create a public link, set `share=True` in `launch()`.\n"
     ]
    },
    {
     "data": {
      "text/html": [
       "<div><iframe src=\"http://127.0.0.1:7860/\" width=\"100%\" height=\"500\" allow=\"autoplay; camera; microphone; clipboard-read; clipboard-write;\" frameborder=\"0\" allowfullscreen></iframe></div>"
      ],
      "text/plain": [
       "<IPython.core.display.HTML object>"
      ]
     },
     "metadata": {},
     "output_type": "display_data"
    }
   ],
   "source": [
    "with gr.Blocks() as demo:\n",
    "  gr.Markdown(\"#Blogpost using AI with Cohere API\")\n",
    "  #with gr.Row():\n",
    "  inp = gr.Textbox(placeholder=\"Enter your Topic for Blog post Generation\", label = \"Topic\")\n",
    "  btn = gr.Button(\"Generate 🚀\")\n",
    "  out = gr.Textbox()\n",
    "  btn.click(fn=write_post, inputs=inp, outputs=out)\n",
    "\n",
    "demo.launch(debug = True)"
   ]
  },
  {
   "cell_type": "code",
   "execution_count": null,
   "id": "5d5bd92b",
   "metadata": {},
   "outputs": [],
   "source": []
  },
  {
   "cell_type": "code",
   "execution_count": null,
   "id": "354734e8",
   "metadata": {},
   "outputs": [],
   "source": []
  },
  {
   "cell_type": "code",
   "execution_count": null,
   "id": "135e675a",
   "metadata": {},
   "outputs": [],
   "source": []
  }
 ],
 "metadata": {
  "kernelspec": {
   "display_name": "Python 3 (ipykernel)",
   "language": "python",
   "name": "python3"
  },
  "language_info": {
   "codemirror_mode": {
    "name": "ipython",
    "version": 3
   },
   "file_extension": ".py",
   "mimetype": "text/x-python",
   "name": "python",
   "nbconvert_exporter": "python",
   "pygments_lexer": "ipython3",
   "version": "3.11.5"
  }
 },
 "nbformat": 4,
 "nbformat_minor": 5
}
